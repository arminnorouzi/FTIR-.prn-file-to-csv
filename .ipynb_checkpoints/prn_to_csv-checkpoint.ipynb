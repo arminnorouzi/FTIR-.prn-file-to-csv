{
 "cells": [
  {
   "cell_type": "code",
   "execution_count": 1,
   "metadata": {},
   "outputs": [],
   "source": [
    "import pandas as pd\n",
    "import glob\n",
    "\n",
    "folder = \"FTIRResults\" # Update this value\n",
    "\n",
    "file_names = glob.glob(folder + \"/*/*.prn\")\n",
    "\n",
    "for file_name in file_names:\n",
    "    with open(file_name, \"r\") as file:\n",
    "        names = []\n",
    "        values = []\n",
    "\n",
    "        for index, line in enumerate(file):\n",
    "            line = line.rstrip()\n",
    "            columns = line.split(\"\\t\")\n",
    "\n",
    "            if index == 0:\n",
    "                names = columns\n",
    "            else:\n",
    "                values.append(columns)\n",
    "        df = pd.DataFrame(values,columns=names)\n",
    "        \n",
    "        temp = file_name.split(\"\\\\\")[2]\n",
    "        name = temp.split(\".prn\")[0]\n",
    "        df.to_csv(name + \".csv\")"
   ]
  },
  {
   "cell_type": "code",
   "execution_count": null,
   "metadata": {},
   "outputs": [],
   "source": []
  }
 ],
 "metadata": {
  "kernelspec": {
   "display_name": "Python 3",
   "language": "python",
   "name": "python3"
  },
  "language_info": {
   "codemirror_mode": {
    "name": "ipython",
    "version": 3
   },
   "file_extension": ".py",
   "mimetype": "text/x-python",
   "name": "python",
   "nbconvert_exporter": "python",
   "pygments_lexer": "ipython3",
   "version": "3.7.3"
  }
 },
 "nbformat": 4,
 "nbformat_minor": 4
}
